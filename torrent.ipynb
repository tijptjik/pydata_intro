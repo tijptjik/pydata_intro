{
 "cells": [
  {
   "cell_type": "code",
   "execution_count": 77,
   "metadata": {
    "collapsed": false
   },
   "outputs": [
    {
     "data": {
      "application/javascript": [
       "window.load_remote_theme = false; var theme_url = \"https://drostehk.github.io/ipynb-theme/\"; var asset_url = 'https://raw.githubusercontent.com/tijptjik/DS_assets/master/'; window.load_local_theme = function(){ var hostname = document.location.hostname; return ((hostname == \"localhost\" || hostname == '127.0.0.1') && !load_remote_theme)}; var url = load_local_theme() ? document.location.origin + \"/files/theme/custom.js\" : theme_url + 'custom.js'\n",
       "$.getScript(url)"
      ],
      "text/plain": [
       "<IPython.core.display.Javascript object>"
      ]
     },
     "execution_count": 77,
     "metadata": {},
     "output_type": "execute_result"
    }
   ],
   "source": [
    "from IPython.display import Javascript\n",
    "Javascript(\"\"\"window.load_remote_theme = false; var theme_url = \"https://drostehk.github.io/ipynb-theme/\"; var asset_url = 'https://raw.githubusercontent.com/tijptjik/DS_assets/master/'; window.load_local_theme = function(){ var hostname = document.location.hostname; return ((hostname == \"localhost\" || hostname == '127.0.0.1') && !load_remote_theme)}; var url = load_local_theme() ? document.location.origin + \"/files/theme/custom.js\" : theme_url + 'custom.js'\n",
    "$.getScript(url)\"\"\")"
   ]
  },
  {
   "cell_type": "markdown",
   "metadata": {},
   "source": [
    "# Intro to Python for Data Analysis"
   ]
  },
  {
   "cell_type": "markdown",
   "metadata": {},
   "source": [
    "## Applying what we know : Torrent Analysis"
   ]
  },
  {
   "cell_type": "code",
   "execution_count": 78,
   "metadata": {
    "collapsed": true
   },
   "outputs": [],
   "source": [
    "import sys\n",
    "reload(sys)\n",
    "sys.setdefaultencoding(\"utf-8\")"
   ]
  },
  {
   "cell_type": "code",
   "execution_count": 79,
   "metadata": {
    "collapsed": false
   },
   "outputs": [],
   "source": [
    "import string\n",
    "import requests\n",
    "from StringIO import StringIO as StrIO"
   ]
  },
  {
   "cell_type": "code",
   "execution_count": 80,
   "metadata": {
    "collapsed": false
   },
   "outputs": [],
   "source": [
    "DATA_URL = 'https://kickass.to/hourlydump.txt.gz'"
   ]
  },
  {
   "cell_type": "code",
   "execution_count": 81,
   "metadata": {
    "collapsed": false
   },
   "outputs": [],
   "source": [
    "r = requests.get(DATA_URL, stream=True)"
   ]
  },
  {
   "cell_type": "markdown",
   "metadata": {},
   "source": [
    "Now, we have a **Response** object called `r`. We can get all the information we need from this object."
   ]
  },
  {
   "cell_type": "code",
   "execution_count": 82,
   "metadata": {
    "collapsed": false
   },
   "outputs": [
    {
     "data": {
      "text/plain": [
       "200"
      ]
     },
     "execution_count": 82,
     "metadata": {},
     "output_type": "execute_result"
    }
   ],
   "source": [
    "r.status_code"
   ]
  },
  {
   "cell_type": "code",
   "execution_count": 83,
   "metadata": {
    "collapsed": false
   },
   "outputs": [
    {
     "data": {
      "text/plain": [
       "{'content-length': '733702', 'accept-ranges': 'bytes', 'server': 'nginx', 'last-modified': 'Thu, 28 May 2015 10:00:02 GMT', 'connection': 'keep-alive', 'etag': '\"5566e722-b3206\"', 'date': 'Thu, 28 May 2015 10:39:03 GMT', 'content-type': 'application/octet-stream'}"
      ]
     },
     "execution_count": 83,
     "metadata": {},
     "output_type": "execute_result"
    }
   ],
   "source": [
    "r.headers"
   ]
  },
  {
   "cell_type": "code",
   "execution_count": 84,
   "metadata": {
    "collapsed": false
   },
   "outputs": [
    {
     "data": {
      "text/plain": [
       "u'\\x1f\\ufffd\\x08\\x08\"\\ufffdfU\\x00\\x03hourlydump.txt\\x00\\ufffdZ]s\\ufffdF\\ufffd}\\ufffd\\u89ddLU\\ufffd\\ufffdn\\ufffd\\ufffd\\x01\\r\\ufffdvl9\\x1a\\ufffdc\\'\\ufffd\\ufffd\\x03DB\"\"\\ufffd\\ufffd\\x00\\ufffddf\\ufffd\\ufffd}O\\x03\\x14I\\ufffd,\\x07[5\\x13W$Q\"N\\ufffd\\x0f\\ufffd=\\ufffd\\ufffd\\u06f0\\ufffd\\ufffdLs.\\ufffd\\u034c0.\\ufffd<\\x16:\\ufffd\\ufffd*\\ufffd\\ufffd\\u0608T9\\ufffd<\\ufffd}S\\x16]u_\\ufffd\\x15\\ufffdm\\ufffd\\x11J\\ufffd,\\ufffd\\u02fa^\\ufffd\\ufffd\\ufffd&\\u0772$\\x1f\\ufffd\\ufffd|\\x12\\ufffd\\ufffd\\x15;\"\\x18W\\ufffd\\ufffd?_\\ufffd\\ufffdg\\ufffd\\ufffd\\ufffd\\ufffd\\ufffd\\ufffd\\ufffdU5\\x07B\\ufffdi\\ufffde\\ufffdm\\ufffd\\ufffd\\ufffd\\ufffd\\u06e2{1o~\\ufffd\\ufffd\\ufffd\\x034\\ufffd\\x060\\ufffd\\t\\ufffd\\ufffd\\ufffd\\ufffd\\x00\\ufffd\\x0f\\x00\\ufffdB\\ufffdu\\ufffd\\ufffd\\x01\\ufffdV\\ufffd\\ufffdz\\ufffd\\u044e3\\ufffdX\\ufffd\\u060be\\ufffd^\\r\\ufffd@\\ufffd\\ufffdf^\\u0317\\ufffdM\\u0645\\x17M\\ufffd\\ufffd~\\ufffd\\x13\\ufffd\\ufffdb\\x7fA\\ufffd5\\ufffd\\ufffd\\ufffd,\\ufffd\\ufffdu\\ufffd\\ufffd\\ufffd\\ufffd\\\\FBK&\\ufffd\\ufffdY\\ufffd\\ufffd\\u061a$\\ufffdY\\ufffdr%t\\ufffd:\\ufffdz\\ufffds\\ufffd\\ufffd&\\u0452GR\\ufffdH\\ufffdo\\ue68e\\ufffd\\ufffd\\ufffd\\ufffd6\\ufffd\\ufffdt\\ufffdM\\x19\\ufffdzU\\ufffdo\\x07\\ufffd\\x08g\\ufffdmI\\ufffd\\ufffd\\ufffd\\x00k_\\ufffdO~{\\ufffd\\ufffdF\\ufffduC\\u06a6\\ufffd\\x7f\\x01\\x01\\u037f2v\\x0bP:\\x1f@\\ufffdz\\x04\\r\\\\-\\x01:\\x124\\ufffd\\u04ab\\ufffd]\\x03\\ufffd\\x02(\\ufffdU\\u05fb\\x00J\\x01z \\ufffdO n\\ufffdFO\\ufffd\\ufffd\\ufffdz\\ufffd\\ufffd\\ufffd\\x1dH\\ufffdn\\ufffd2\\ufffd\\ufffdT\\ufffd\\ufffdy\\ufffdDZj\\ufffdx-\\ufffd\\ufffd\\ufffd\\x18\\ufffdP\\ufffdH\\ufffdDG\\ufffd\\ufffd\\ufffd\\ufffd/\\ufffd\\u056a\\ufffd,J\\x12\\ufffd\\ufffd/UK|\\ufffdk\\ufffdbE\\ufffd\\ufffd}\\ufffd\\ufffd!\\u06e2m\\x11LEW\\ufffd\\ufffd\\ufffd\\ufffd\\ufffdzu\\ufffd\\ufffd\\ufffd\\ufffdOB+\\x00\\ufffd\\x11\\ufffd\\x16\\x03\\x10\\ufffd\\ufffd@t\\x04\\ufffdG \\n \\n\\ufffd\\x03=\\ufffd\\ufffd\\u967a\\ufffd#=L\\x0be\\ufffd\\x14\\ufffdV\\ufffd\\u01dd0d\\ufffd\\x19\\ufffdl\\ufffd\\ufffdJE\\ufffdj\\ufffd\\ufffd\\ufffd8Q\\\\Gy.|\\ufffd[\\ufffdS\\ufffdc\\'x\\ufffd\\x7fz[\\ufffd\\x14\\ufffd\\ufffd\\ufffd\\u051fI\\ufffd\\ufffd\\ufffd\\ufffd$\\ufffdjUm\\ufffd\\x1f\\u025b\\ufffdiv\\u48b8/7!O\\ubee6\\ufffd\\ufffd%I\\ufffd\\ufffdF\\x10x\\ufffd?\\ufffdY\\ufffd\\ufffd\\ufffdz+?\\x7f\\ufffd\\ufffdU@\\ufffd\\x06dZ\\x04`z5\\x02\\ufffd\\u06c0K\\ufffd\\ufffdK\\ufffd\\ufffd\\ufffdt\\ufffd\\u017b\\ufffdf\\ufffd\\x07P)0\\x0f\\ufffd\\ufffd?go\\ufffdv\\x0f\\ufffd\\ufffdI\\ufffd\\\\\\ufffd\\x1e\\u064b\\ufffd\\ufffd>\\ufffdfI\\ufffdfN+\\x19\\ufffdw\\ufffdX\\ufffd%\\ufffdor\\x1e)\\ufffdm\\ufffd\\ufffd\\ufffd\\ufffd\"\\ufffde\\ufffd\\ufffd\\ufffd\\ufffdYv;\\x12\\ufffd\\ufffd\\x06\\ufffd\\ufffdy\\ufffdE\\ufffd\\x14d\\x06\\ufffd\\ufffd\\ufffd#~Yl\\ufffd%y\\ufffd\\ufffd\\u0751\\ufffdU\\ufffd\\ufffdn\\ufffdr\\ufffd\\ufffdKK\\ufffd\\ufffd\\x16\\ufffd\\ufffd\\ufffdK\\ufffd\\ufffd\\x08\\ufffd\\ufffd&\\ufffd\\ufffdq\\rZ\\ufffdk\\ufffd\\ufffd\\x12C(\\ufffd\\ufffd\\ufffd\\x00\\r9\\ufffd\\ufffd7\\ufffd\\x05hK\\ufffd\\ufffd\\x02t\\ufffd2\\ufffd\\x1fHU\\x7fN\\ufffdT\\x12\\ufffd!\\x19(\\r7\\ufffd{\\xc6\\ufffd\\ufffdG\\ufffd\\ufffdv\\ufffd\"\\ufffd3\\ufffd\\ufffd\\u03a3(\\ufffd\\ufffdS\\ufffd\\ufffd\\x13\\ufffd\\ufffdT\\ufffd(\\ufffd\\ufffdy\\ufffd[.\\ufffd\\ufffd\\ufffdt\\ufffd;\\ufffd\\ufffdw\\ufffd\\ufffdV\\ufffd\\ufffd\\ufffd\\ufffdV;\\u22ce\\ufffd\\ufffd\\ufffd\\ufffd]W]\\u07ed\\ufffd\\x16o w[\\x12\\ufffdKn\\u02ae%\\ufffdw\\ufffd\\ufffdrA\\ufffd\\r\\ufffd\\x07\\ufffd\\n\\ufffd\\x13a\\ua148^\\ufffd[\\ufffd\\ubdc8]\\ufffd\\ufffd2\\x01\\ufffd\\ufffd+\\ufffdBQZ\\x10\\ufffd\\ufffdEh\\ufffd3\\ufffd\\ufffd\\x0e\\ufffd\\u04b0\\x08\\x1d\\x17\\ufffd\\ufffd\\ufffd\\ufffd\\ufffd\\x0c\\ufffdC4~$\\ufffd\\ufffd\\ufffd?\\ufffdv*\\x15\\x07n\\ufffdb\\ufffd0\\ufffd\\ufffd\\x18\\ufffd\\ufffdW\\x1f\\ufffd\\ufffd\"\\ufffd4\\ufffd\\ufffd<\\ufffdY*\\ufffd\\x18\\ufffdM\\xa2\\u0526\\ufffdp\\ufffd\\ufffd4U\\ufffd\\ufffd*I\\x13\\u0567\\ufffd1\\ufffdH>\\x16\\x1b0\\ufffd\\ufffdh\\x16$\\u015e\\ufffd\\ufffd\\ufffdEq\\ufffd\\ufffd\\ufffd@{\\x08WC\\x07\\ufffd\\x05]\\x04\\ufffdN\\ufffd\\ufffdL\\u043e\\ufffd7\\x7f\\x0c4n\\ufffds\\ufffds#\\x19Q\\x7fL'"
      ]
     },
     "execution_count": 84,
     "metadata": {},
     "output_type": "execute_result"
    }
   ],
   "source": [
    "r.text[:1000]"
   ]
  },
  {
   "cell_type": "code",
   "execution_count": 85,
   "metadata": {
    "collapsed": false
   },
   "outputs": [],
   "source": [
    "r = requests.get(DATA_URL, stream=True)"
   ]
  },
  {
   "cell_type": "code",
   "execution_count": 86,
   "metadata": {
    "collapsed": false
   },
   "outputs": [],
   "source": [
    "raw_lines = r.raw.read()"
   ]
  },
  {
   "cell_type": "code",
   "execution_count": 87,
   "metadata": {
    "collapsed": false
   },
   "outputs": [],
   "source": [
    "fileobj = StrIO(raw_lines)"
   ]
  },
  {
   "cell_type": "code",
   "execution_count": 88,
   "metadata": {
    "collapsed": true
   },
   "outputs": [],
   "source": [
    "import gzip"
   ]
  },
  {
   "cell_type": "code",
   "execution_count": 89,
   "metadata": {
    "collapsed": false
   },
   "outputs": [],
   "source": [
    "lines = gzip.GzipFile(fileobj=fileobj)"
   ]
  },
  {
   "cell_type": "code",
   "execution_count": 90,
   "metadata": {
    "collapsed": false
   },
   "outputs": [
    {
     "data": {
      "text/plain": [
       "<gzip StringIO.StringIO instance at 0x7f42613dc7a0 0x7f42615d1d50>"
      ]
     },
     "execution_count": 90,
     "metadata": {},
     "output_type": "execute_result"
    }
   ],
   "source": [
    "lines"
   ]
  },
  {
   "cell_type": "code",
   "execution_count": 91,
   "metadata": {
    "collapsed": false
   },
   "outputs": [],
   "source": [
    "lines = list(lines)"
   ]
  },
  {
   "cell_type": "code",
   "execution_count": null,
   "metadata": {
    "collapsed": false
   },
   "outputs": [],
   "source": [
    "lines = [line.decode('utf-8').strip() for line in lines]"
   ]
  },
  {
   "cell_type": "code",
   "execution_count": null,
   "metadata": {
    "collapsed": false
   },
   "outputs": [],
   "source": [
    "for line in lines:\n",
    "    print(line)"
   ]
  },
  {
   "cell_type": "code",
   "execution_count": null,
   "metadata": {
    "collapsed": false
   },
   "outputs": [],
   "source": [
    "clean_lines = []\n",
    "for line in lines:\n",
    "    line=line.rstrip().split('|')\n",
    "    clean_lines.append(line)"
   ]
  },
  {
   "cell_type": "code",
   "execution_count": null,
   "metadata": {
    "collapsed": false
   },
   "outputs": [],
   "source": [
    "clean_lines[:10]"
   ]
  },
  {
   "cell_type": "markdown",
   "metadata": {},
   "source": [
    "#### Pandas DataFrame"
   ]
  },
  {
   "cell_type": "code",
   "execution_count": null,
   "metadata": {
    "collapsed": false
   },
   "outputs": [],
   "source": [
    "import pandas as pd"
   ]
  },
  {
   "cell_type": "code",
   "execution_count": null,
   "metadata": {
    "collapsed": false
   },
   "outputs": [],
   "source": [
    "df = pd.DataFrame(clean_lines)"
   ]
  },
  {
   "cell_type": "code",
   "execution_count": null,
   "metadata": {
    "collapsed": false
   },
   "outputs": [],
   "source": [
    "df.info()"
   ]
  },
  {
   "cell_type": "code",
   "execution_count": null,
   "metadata": {
    "collapsed": false
   },
   "outputs": [],
   "source": [
    "columns = ['info_hash', 'name', 'category', 'info_url','download_url',\n",
    "           'size','category_id','files_count','seeders','leechers','upload_date']\n",
    "\n",
    "df.columns = columns"
   ]
  },
  {
   "cell_type": "code",
   "execution_count": null,
   "metadata": {
    "collapsed": false
   },
   "outputs": [],
   "source": [
    "df.head()"
   ]
  },
  {
   "cell_type": "code",
   "execution_count": null,
   "metadata": {
    "collapsed": false
   },
   "outputs": [],
   "source": [
    "category_count = df['category'].value_counts()"
   ]
  },
  {
   "cell_type": "code",
   "execution_count": null,
   "metadata": {
    "collapsed": false
   },
   "outputs": [],
   "source": [
    "category_count"
   ]
  },
  {
   "cell_type": "code",
   "execution_count": null,
   "metadata": {
    "collapsed": true
   },
   "outputs": [],
   "source": [
    "import seaborn as sns"
   ]
  },
  {
   "cell_type": "code",
   "execution_count": null,
   "metadata": {
    "collapsed": false
   },
   "outputs": [],
   "source": [
    "sns.barplot('category', data=df);"
   ]
  },
  {
   "cell_type": "markdown",
   "metadata": {},
   "source": [
    "# Making it SFW"
   ]
  },
  {
   "cell_type": "code",
   "execution_count": null,
   "metadata": {
    "collapsed": true
   },
   "outputs": [],
   "source": [
    "df = df[df.category != 'XXX']"
   ]
  },
  {
   "cell_type": "code",
   "execution_count": null,
   "metadata": {
    "collapsed": false
   },
   "outputs": [],
   "source": [
    "df.ix[1:20,'name']"
   ]
  },
  {
   "cell_type": "code",
   "execution_count": null,
   "metadata": {
    "collapsed": false
   },
   "outputs": [],
   "source": [
    "dfs = df['name'].value_counts() > 1"
   ]
  },
  {
   "cell_type": "code",
   "execution_count": null,
   "metadata": {
    "collapsed": false
   },
   "outputs": [],
   "source": [
    "dfs.head()"
   ]
  },
  {
   "cell_type": "code",
   "execution_count": null,
   "metadata": {
    "collapsed": false
   },
   "outputs": [],
   "source": [
    "dfs = dfs.sort_index()\n",
    "dfs.ix[7:17]"
   ]
  },
  {
   "cell_type": "code",
   "execution_count": null,
   "metadata": {
    "collapsed": false
   },
   "outputs": [],
   "source": [
    "dfx = df.drop_duplicates(subset=['name']).sort('name')"
   ]
  },
  {
   "cell_type": "code",
   "execution_count": null,
   "metadata": {
    "collapsed": false
   },
   "outputs": [],
   "source": [
    "len(dfx)"
   ]
  },
  {
   "cell_type": "code",
   "execution_count": null,
   "metadata": {
    "collapsed": false
   },
   "outputs": [],
   "source": [
    "dfx[dfs.values]"
   ]
  },
  {
   "cell_type": "code",
   "execution_count": null,
   "metadata": {
    "collapsed": false
   },
   "outputs": [],
   "source": [
    "len(dfx[dfs.values])"
   ]
  },
  {
   "cell_type": "code",
   "execution_count": null,
   "metadata": {
    "collapsed": false
   },
   "outputs": [],
   "source": [
    "subset = dfx[dfs.values]"
   ]
  },
  {
   "cell_type": "code",
   "execution_count": null,
   "metadata": {
    "collapsed": false
   },
   "outputs": [],
   "source": [
    "sns.barplot('category',data=subset)"
   ]
  },
  {
   "cell_type": "markdown",
   "metadata": {},
   "source": [
    "### String lookups"
   ]
  },
  {
   "cell_type": "code",
   "execution_count": null,
   "metadata": {
    "collapsed": false
   },
   "outputs": [],
   "source": [
    "df.name"
   ]
  },
  {
   "cell_type": "code",
   "execution_count": null,
   "metadata": {
    "collapsed": false
   },
   "outputs": [],
   "source": [
    "df[df['name'].str.contains(\"Principles\")]"
   ]
  },
  {
   "cell_type": "code",
   "execution_count": null,
   "metadata": {
    "collapsed": false
   },
   "outputs": [],
   "source": [
    "df['name'].apply(lambda x: unicode(x))"
   ]
  },
  {
   "cell_type": "code",
   "execution_count": null,
   "metadata": {
    "collapsed": false
   },
   "outputs": [],
   "source": [
    "df['name'].str.lower().str.split()"
   ]
  },
  {
   "cell_type": "code",
   "execution_count": null,
   "metadata": {
    "collapsed": true
   },
   "outputs": [],
   "source": [
    "from collections import Counter"
   ]
  },
  {
   "cell_type": "code",
   "execution_count": null,
   "metadata": {
    "collapsed": false
   },
   "outputs": [],
   "source": [
    "result = Counter(\" \".join(df['name'].values.tolist()).split(\" \")).items()"
   ]
  },
  {
   "cell_type": "code",
   "execution_count": null,
   "metadata": {
    "collapsed": false
   },
   "outputs": [],
   "source": [
    "result.sort()"
   ]
  },
  {
   "cell_type": "code",
   "execution_count": null,
   "metadata": {
    "collapsed": false
   },
   "outputs": [],
   "source": [
    "result"
   ]
  },
  {
   "cell_type": "code",
   "execution_count": null,
   "metadata": {
    "collapsed": false
   },
   "outputs": [],
   "source": [
    "word_count = pd.DataFrame(result, columns=['token','count'])"
   ]
  },
  {
   "cell_type": "code",
   "execution_count": null,
   "metadata": {
    "collapsed": false
   },
   "outputs": [],
   "source": [
    "word_count"
   ]
  },
  {
   "cell_type": "code",
   "execution_count": null,
   "metadata": {
    "collapsed": false
   },
   "outputs": [],
   "source": [
    "word_count.sort('count',ascending=False)"
   ]
  },
  {
   "cell_type": "code",
   "execution_count": null,
   "metadata": {
    "collapsed": false
   },
   "outputs": [],
   "source": [
    "select = word_count['token'].str.len() > 8"
   ]
  },
  {
   "cell_type": "code",
   "execution_count": null,
   "metadata": {
    "collapsed": false
   },
   "outputs": [],
   "source": [
    "word_count[select]"
   ]
  },
  {
   "cell_type": "code",
   "execution_count": null,
   "metadata": {
    "collapsed": false
   },
   "outputs": [],
   "source": [
    "word_count[select].sort('count',ascending=False)[1:110]"
   ]
  },
  {
   "cell_type": "code",
   "execution_count": null,
   "metadata": {
    "collapsed": false
   },
   "outputs": [],
   "source": [
    "def hasNumbers(inputString):\n",
    "    return any(char.isdigit() for char in inputString)"
   ]
  },
  {
   "cell_type": "code",
   "execution_count": null,
   "metadata": {
    "collapsed": false
   },
   "outputs": [],
   "source": [
    "import numpy as np\n",
    "word_count['has_digits'] = word_count['token'].apply(hasNumbers)"
   ]
  },
  {
   "cell_type": "code",
   "execution_count": null,
   "metadata": {
    "collapsed": false
   },
   "outputs": [],
   "source": [
    "word_count['has_digits'].value_counts()"
   ]
  },
  {
   "cell_type": "code",
   "execution_count": null,
   "metadata": {
    "collapsed": false
   },
   "outputs": [],
   "source": [
    "word_count[-word_count['has_digits']]"
   ]
  },
  {
   "cell_type": "code",
   "execution_count": null,
   "metadata": {
    "collapsed": false
   },
   "outputs": [],
   "source": [
    "punctuations = '''!()-[]{};:'\"\\,<>./?@#$%^&*_~'''"
   ]
  },
  {
   "cell_type": "code",
   "execution_count": null,
   "metadata": {
    "collapsed": false
   },
   "outputs": [],
   "source": [
    "def hasPunctuation(inputString):\n",
    "    return any(chat in punctuations for char in inputString)"
   ]
  }
 ],
 "metadata": {
  "kernelspec": {
   "display_name": "Python 2",
   "language": "python",
   "name": "python2"
  },
  "language_info": {
   "codemirror_mode": {
    "name": "ipython",
    "version": 2
   },
   "file_extension": ".py",
   "mimetype": "text/x-python",
   "name": "python",
   "nbconvert_exporter": "python",
   "pygments_lexer": "ipython2",
   "version": "2.7.9"
  }
 },
 "nbformat": 4,
 "nbformat_minor": 0
}
